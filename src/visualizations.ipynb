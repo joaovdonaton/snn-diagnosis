{
 "cells": [
  {
   "cell_type": "code",
   "execution_count": 37,
   "id": "79603b88-489c-4ccb-994d-37cc953537d4",
   "metadata": {},
   "outputs": [],
   "source": [
    "from parse_data import *\n",
    "from datasets import Dataset\n",
    "import librosa\n",
    "import numpy as np\n",
    "import matplotlib.pyplot as plt\n",
    "import random"
   ]
  },
  {
   "cell_type": "markdown",
   "id": "a36537ae-5b40-4848-aae6-7ca7d724c540",
   "metadata": {},
   "source": [
    "# Spectrogram data"
   ]
  },
  {
   "cell_type": "code",
   "execution_count": 2,
   "id": "c6a9c272-49ef-4a19-ae1b-6623459c1aa8",
   "metadata": {},
   "outputs": [
    {
     "data": {
      "application/vnd.jupyter.widget-view+json": {
       "model_id": "b3ebb9305a914a86a21c8cfcd201b5d5",
       "version_major": 2,
       "version_minor": 0
      },
      "text/plain": [
       "Loading dataset shards:   0%|          | 0/17 [00:00<?, ?it/s]"
      ]
     },
     "metadata": {},
     "output_type": "display_data"
    }
   ],
   "source": [
    "ds = Dataset.from_parquet(get_file('spectrogram.parquet'))"
   ]
  },
  {
   "cell_type": "code",
   "execution_count": 32,
   "id": "c161e1eb-5242-4ee6-843c-fa7ac36405cb",
   "metadata": {},
   "outputs": [
    {
     "name": "stdout",
     "output_type": "stream",
     "text": [
      "Duration: 30.02s\n",
      "Task: Respiration-and-cough-Breath-2\n",
      "Spectrogram timesteps: 1502\n",
      "Speaking Rate: 3.00\n",
      "3035, 2a86baba, 68E2EE5C\n"
     ]
    }
   ],
   "source": [
    "index = random.randint(0, len(ds)-1)\n",
    "sample = ds[index]\n",
    "\n",
    "p_id = sample['participant_id']\n",
    "s_id = sample['session_id']\n",
    "t_id = sample['task_name']\n",
    "spec = np.array(sample['spectrogram'])\n",
    "\n",
    "s_feat = get_session_features(s_id, t_id)\n",
    "\n",
    "print(f'Duration: {s_feat[\"duration\"]:.2f}s')\n",
    "print(f'Task: {s_feat[\"task_name\"]}')\n",
    "print(f'Spectrogram timesteps: {spec.shape[1]}')\n",
    "print(f'Speaking Rate: {s_feat[\"speaking_rate\"]:.2f}')\n",
    "\n",
    "print(f'{index}, {p_id}, {s_id}')"
   ]
  },
  {
   "cell_type": "code",
   "execution_count": null,
   "id": "0db8c036-0ad6-451b-a01d-8f43463c8aeb",
   "metadata": {},
   "outputs": [],
   "source": [
    "# get average timesteps for all samples so we can be better informed for windowing specs\n",
    "counter = []\n",
    "for i in range(200):\n",
    "    d = ds[i]\n",
    "    #feat = get_session_features(d['session_id'], d['task_name'])\n",
    "    counter.append(np.array(d['spectrogram']).shape[1])\n",
    "\n",
    "print(sum(counter)/len(counter))"
   ]
  },
  {
   "cell_type": "code",
   "execution_count": null,
   "id": "044ae96e-66ff-41c3-ac44-548fdfeb01a6",
   "metadata": {},
   "outputs": [],
   "source": [
    "spectrogram = librosa.power_to_db(np.asarray(spec))\n",
    "plt.figure(figsize=(10, 4))\n",
    "plt.imshow(spectrogram, aspect='auto', origin='lower')\n",
    "plt.title('Spectrogram')\n",
    "plt.xlabel('Time')\n",
    "plt.ylabel('Frequency Bin')\n",
    "plt.colorbar()"
   ]
  },
  {
   "cell_type": "markdown",
   "id": "e453b1d6-af3a-4c0b-bbd7-bb293234f4c4",
   "metadata": {},
   "source": [
    "# Mel spectrogram data"
   ]
  },
  {
   "cell_type": "code",
   "execution_count": 101,
   "id": "6f95f2bf-3fbe-4f8b-aed6-5f01464318ca",
   "metadata": {},
   "outputs": [],
   "source": [
    "ds = Dataset.from_parquet(get_file('mfcc.parquet'))"
   ]
  },
  {
   "cell_type": "code",
   "execution_count": 102,
   "id": "7e467c32-95fd-4d36-ad46-caecfebfeac8",
   "metadata": {},
   "outputs": [
    {
     "name": "stdout",
     "output_type": "stream",
     "text": [
      "Duration: 30.02s\n",
      "Task: Open-response-questions\n",
      "Spectrogram timesteps: 1502\n",
      "Speaking Rate: 2.02\n",
      "101, 01401050, 345A00C1\n"
     ]
    }
   ],
   "source": [
    "index = random.randint(0, len(ds)-1)\n",
    "index = 101\n",
    "sample = ds[index]\n",
    "\n",
    "p_id = sample['participant_id']\n",
    "s_id = sample['session_id']\n",
    "t_id = sample['task_name']\n",
    "mfcc = np.array(sample['mfcc'])\n",
    "\n",
    "s_feat = get_session_features(s_id, t_id)\n",
    "\n",
    "print(f'Duration: {s_feat[\"duration\"]:.2f}s')\n",
    "print(f'Task: {s_feat[\"task_name\"]}')\n",
    "print(f'Spectrogram timesteps: {mfcc.shape[1]}')\n",
    "print(f'Speaking Rate: {s_feat[\"speaking_rate\"]:.2f}')\n",
    "\n",
    "print(f'{index}, {p_id}, {s_id}')"
   ]
  },
  {
   "cell_type": "code",
   "execution_count": null,
   "id": "21433af6-737f-4263-8c77-e69e18aae109",
   "metadata": {},
   "outputs": [],
   "source": [
    "mspec = np.asarray(mfcc)\n",
    "plt.figure(figsize=(10, 4))\n",
    "plt.imshow(mspec, aspect='auto', origin='lower')\n",
    "plt.title('MFCC coefficients')\n",
    "plt.xlabel('Time')\n",
    "plt.ylabel('Mel Bin')\n",
    "plt.colorbar()"
   ]
  },
  {
   "cell_type": "markdown",
   "id": "7e86b1b4-3d0d-4f2b-a8d1-5ec86dc9baab",
   "metadata": {},
   "source": [
    "# Debugging stuff"
   ]
  },
  {
   "cell_type": "code",
   "execution_count": 69,
   "id": "ff36f7fd-5ee7-48a7-ad1b-a2fb2c27ebda",
   "metadata": {},
   "outputs": [
    {
     "name": "stdout",
     "output_type": "stream",
     "text": [
      "NpzFile '/data/jmacambi/snndiag/datasets/spectest.npz' with keys: metadata, train_set, train_labels, train_origins, validation_set...\n"
     ]
    }
   ],
   "source": [
    "path = '/data/jmacambi/snndiag/datasets/spectest.npz'\n",
    "d = np.load(path, allow_pickle=True)\n",
    "print(d)"
   ]
  },
  {
   "cell_type": "code",
   "execution_count": null,
   "id": "324a806e-9375-4c9a-a49c-f562c985db8d",
   "metadata": {},
   "outputs": [],
   "source": [
    "d['train_origins'][40:60]"
   ]
  },
  {
   "cell_type": "code",
   "execution_count": 77,
   "id": "44fda2fd-6560-4934-89ae-d7f6291a2007",
   "metadata": {},
   "outputs": [],
   "source": [
    "subset = d['train_set'][21:23]"
   ]
  },
  {
   "cell_type": "code",
   "execution_count": null,
   "id": "20254338-ee3d-4776-a222-88ffdea01143",
   "metadata": {},
   "outputs": [],
   "source": [
    "for i in range(len(subset)):\n",
    "    plt.figure(figsize=(10, 4))\n",
    "    plt.imshow(subset[i], aspect='auto', origin='lower')\n",
    "    plt.title('Raw Spectrogram')\n",
    "    plt.xlabel('Time')\n",
    "    plt.ylabel('Freq Bin')\n",
    "    plt.xlim(0, 512)\n",
    "    plt.colorbar()"
   ]
  },
  {
   "cell_type": "code",
   "execution_count": null,
   "id": "efc67793-198f-4fcc-a332-2fa257759428",
   "metadata": {},
   "outputs": [],
   "source": []
  }
 ],
 "metadata": {
  "kernelspec": {
   "display_name": "Python 3 (ipykernel)",
   "language": "python",
   "name": "python3"
  },
  "language_info": {
   "codemirror_mode": {
    "name": "ipython",
    "version": 3
   },
   "file_extension": ".py",
   "mimetype": "text/x-python",
   "name": "python",
   "nbconvert_exporter": "python",
   "pygments_lexer": "ipython3",
   "version": "3.10.16"
  }
 },
 "nbformat": 4,
 "nbformat_minor": 5
}
